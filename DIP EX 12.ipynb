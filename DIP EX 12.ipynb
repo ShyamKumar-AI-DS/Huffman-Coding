{
 "cells": [
  {
   "cell_type": "code",
   "execution_count": 7,
   "id": "1c92aeb6",
   "metadata": {},
   "outputs": [],
   "source": [
    "string = 'Shyam Kumar A 212221230098'"
   ]
  },
  {
   "cell_type": "code",
   "execution_count": 8,
   "id": "8960791f",
   "metadata": {},
   "outputs": [],
   "source": [
    "class NodeTree(object):\n",
    "    def __init__(self,left=None,right=None):\n",
    "        self.left = left\n",
    "        self.right = right\n",
    "    def children (self):\n",
    "        return (self.left ,self.right)  "
   ]
  },
  {
   "cell_type": "code",
   "execution_count": 9,
   "id": "e073873d",
   "metadata": {},
   "outputs": [],
   "source": [
    "def huffman_code_tree (node, left=True, binString=''):\n",
    "    if type(node) is str:\n",
    "        return {node: binString}\n",
    "    (l, r) = node.children()\n",
    "    d = dict()\n",
    "    d.update(huffman_code_tree (l, True, binString + '0'))\n",
    "    d.update(huffman_code_tree (r, False, binString + '1'))\n",
    "    return d"
   ]
  },
  {
   "cell_type": "code",
   "execution_count": 10,
   "id": "520cdc71",
   "metadata": {},
   "outputs": [],
   "source": [
    "freq = {}\n",
    "for c in string:\n",
    "    if c in freq:\n",
    "        freq[c] += 1\n",
    "    else:\n",
    "        freq[c] = 1\n",
    "freq = sorted(freq.items(), key=lambda x: x[1], reverse=True)\n",
    "nodes=freq"
   ]
  },
  {
   "cell_type": "code",
   "execution_count": 11,
   "id": "be7f402a",
   "metadata": {},
   "outputs": [],
   "source": [
    "while len(nodes)>1:\n",
    "    (key1,c1)=nodes[-1]\n",
    "    (key2,c2)=nodes[-2]\n",
    "    nodes = nodes[:-2]\n",
    "    node = NodeTree (key1, key2)\n",
    "    nodes.append((node,c1 + c2))\n",
    "    nodes = sorted (nodes, key=lambda x: x[1], reverse=True)"
   ]
  },
  {
   "cell_type": "code",
   "execution_count": 20,
   "id": "e81d30bb",
   "metadata": {},
   "outputs": [
    {
     "name": "stdout",
     "output_type": "stream",
     "text": [
      "--------------------\n",
      " Char | Huffman code \n",
      "--------------------\n",
      "'2'  |           01\n",
      "' '  |          001\n",
      "'a'  |          000\n",
      "'m'  |         1101\n",
      "'1'  |         1100\n",
      "'0'  |         1111\n",
      "'S'  |        10101\n",
      "'h'  |        10100\n",
      "'y'  |        10111\n",
      "'K'  |        10110\n",
      "'u'  |        10001\n",
      "'r'  |        10000\n",
      "'A'  |        10011\n",
      "'3'  |        10010\n",
      "'9'  |        11101\n",
      "'8'  |        11100\n",
      "--------------------\n"
     ]
    }
   ],
   "source": [
    "huffmanCode=huffman_code_tree(nodes[0][0])\n",
    "print('--------------------')\n",
    "print(' Char | Huffman code ') \n",
    "print('--------------------')\n",
    "for (char, frequency) in freq:\n",
    "    print('%-4r |%13s'%(char,huffmanCode[char]))\n",
    "print('--------------------')"
   ]
  },
  {
   "cell_type": "code",
   "execution_count": null,
   "id": "21d44454",
   "metadata": {},
   "outputs": [],
   "source": []
  }
 ],
 "metadata": {
  "kernelspec": {
   "display_name": "Python 3",
   "language": "python",
   "name": "python3"
  },
  "language_info": {
   "codemirror_mode": {
    "name": "ipython",
    "version": 3
   },
   "file_extension": ".py",
   "mimetype": "text/x-python",
   "name": "python",
   "nbconvert_exporter": "python",
   "pygments_lexer": "ipython3",
   "version": "3.8.8"
  }
 },
 "nbformat": 4,
 "nbformat_minor": 5
}
